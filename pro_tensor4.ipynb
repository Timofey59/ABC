{
  "nbformat": 4,
  "nbformat_minor": 0,
  "metadata": {
    "colab": {
      "provenance": [],
      "authorship_tag": "ABX9TyM+eDjy7uhmHNAlsyINNkGr",
      "include_colab_link": true
    },
    "kernelspec": {
      "name": "python3",
      "display_name": "Python 3"
    },
    "language_info": {
      "name": "python"
    }
  },
  "cells": [
    {
      "cell_type": "markdown",
      "metadata": {
        "id": "view-in-github",
        "colab_type": "text"
      },
      "source": [
        "<a href=\"https://colab.research.google.com/github/Timofey59/ABC/blob/main/pro_tensor4.ipynb\" target=\"_parent\"><img src=\"https://colab.research.google.com/assets/colab-badge.svg\" alt=\"Open In Colab\"/></a>"
      ]
    },
    {
      "cell_type": "markdown",
      "source": [
        "импорт библиотеки tensorflow"
      ],
      "metadata": {
        "id": "XKt9E9aL9KoQ"
      }
    },
    {
      "cell_type": "code",
      "source": [
        "import tensorflow as tf\n",
        "from tensorflow.keras.datasets import cifar10"
      ],
      "metadata": {
        "id": "60FRMaKK9UTk"
      },
      "execution_count": 24,
      "outputs": []
    },
    {
      "cell_type": "markdown",
      "source": [
        "загрузка базы изображений mnist, разделение ее на тренировочную и тестовою.\n",
        "\n",
        "делим значения пикселей в картинках на 255 для нормализации данных"
      ],
      "metadata": {
        "id": "oX99wkLk9ans"
      }
    },
    {
      "cell_type": "code",
      "source": [
        "cifar = tf.keras.datasets.cifar10\n",
        "(training_images, training_labels), (test_images, test_labels) = cifar.load_data()\n",
        "training_images=training_images.reshape(50000, 32, 32, 3)\n",
        "training_images=training_images / 255.0\n",
        "test_images = test_images.reshape(10000, 32, 32, 3)\n",
        "test_images=test_images / 255.0"
      ],
      "metadata": {
        "id": "qsxHn1A09ZfO"
      },
      "execution_count": 25,
      "outputs": []
    },
    {
      "cell_type": "markdown",
      "source": [
        "создаем модель (дважды обрабатываем фильтрами, дважды уменьшаем, вытягиваем в одномерный массив, обрабатываем в слое со 128 нейронами и выдаем в слой с 10)"
      ],
      "metadata": {
        "id": "7H-EKAZ0-cws"
      }
    },
    {
      "cell_type": "code",
      "execution_count": 26,
      "metadata": {
        "id": "iX-40QkI6Uqz"
      },
      "outputs": [],
      "source": [
        "\n",
        "model = tf.keras.models.Sequential([\n",
        "  tf.keras.layers.Conv2D(32, (3, 3), activation='relu', input_shape=(32, 32, 3)),\n",
        "  tf.keras.layers.MaxPooling2D(2, 2),\n",
        "  tf.keras.layers.Conv2D(64, (3, 3), activation='relu'),\n",
        "  tf.keras.layers.MaxPooling2D(2,2),\n",
        "  tf.keras.layers.Flatten(),\n",
        "  tf.keras.layers.Dense(128, activation='relu'),\n",
        "  tf.keras.layers.Dense(10, activation='softmax')\n",
        "])"
      ]
    },
    {
      "cell_type": "markdown",
      "source": [
        "компилируем модель, выводим ее параметры"
      ],
      "metadata": {
        "id": "WtMzgXLgABG6"
      }
    },
    {
      "cell_type": "code",
      "source": [
        "model.compile(optimizer='adam', loss='sparse_categorical_crossentropy', metrics=['accuracy'])\n",
        "model.summary()"
      ],
      "metadata": {
        "colab": {
          "base_uri": "https://localhost:8080/"
        },
        "id": "XmSK2pnR_-t5",
        "outputId": "a45bcebf-e216-41e9-ea2d-319e6917565d"
      },
      "execution_count": 27,
      "outputs": [
        {
          "output_type": "stream",
          "name": "stdout",
          "text": [
            "Model: \"sequential_5\"\n",
            "_________________________________________________________________\n",
            " Layer (type)                Output Shape              Param #   \n",
            "=================================================================\n",
            " conv2d_8 (Conv2D)           (None, 30, 30, 32)        896       \n",
            "                                                                 \n",
            " max_pooling2d_8 (MaxPoolin  (None, 15, 15, 32)        0         \n",
            " g2D)                                                            \n",
            "                                                                 \n",
            " conv2d_9 (Conv2D)           (None, 13, 13, 64)        18496     \n",
            "                                                                 \n",
            " max_pooling2d_9 (MaxPoolin  (None, 6, 6, 64)          0         \n",
            " g2D)                                                            \n",
            "                                                                 \n",
            " flatten_5 (Flatten)         (None, 2304)              0         \n",
            "                                                                 \n",
            " dense_10 (Dense)            (None, 128)               295040    \n",
            "                                                                 \n",
            " dense_11 (Dense)            (None, 10)                1290      \n",
            "                                                                 \n",
            "=================================================================\n",
            "Total params: 315722 (1.20 MB)\n",
            "Trainable params: 315722 (1.20 MB)\n",
            "Non-trainable params: 0 (0.00 Byte)\n",
            "_________________________________________________________________\n"
          ]
        }
      ]
    },
    {
      "cell_type": "markdown",
      "source": [
        "обучаем модель"
      ],
      "metadata": {
        "id": "0Kxukca7AMAs"
      }
    },
    {
      "cell_type": "code",
      "source": [
        "model.fit(training_images, training_labels, epochs=20)"
      ],
      "metadata": {
        "colab": {
          "base_uri": "https://localhost:8080/"
        },
        "id": "E-2kkCmZ_6Sq",
        "outputId": "afdfae43-6374-4c86-e042-dc31b21f353b"
      },
      "execution_count": 28,
      "outputs": [
        {
          "output_type": "stream",
          "name": "stdout",
          "text": [
            "Epoch 1/20\n",
            "1563/1563 [==============================] - 61s 39ms/step - loss: 1.4159 - accuracy: 0.4927\n",
            "Epoch 2/20\n",
            "1563/1563 [==============================] - 62s 40ms/step - loss: 1.0638 - accuracy: 0.6264\n",
            "Epoch 3/20\n",
            "1563/1563 [==============================] - 61s 39ms/step - loss: 0.9318 - accuracy: 0.6739\n",
            "Epoch 4/20\n",
            "1563/1563 [==============================] - 60s 38ms/step - loss: 0.8357 - accuracy: 0.7074\n",
            "Epoch 5/20\n",
            "1563/1563 [==============================] - 60s 38ms/step - loss: 0.7574 - accuracy: 0.7346\n",
            "Epoch 6/20\n",
            "1563/1563 [==============================] - 60s 38ms/step - loss: 0.6849 - accuracy: 0.7586\n",
            "Epoch 7/20\n",
            "1563/1563 [==============================] - 60s 38ms/step - loss: 0.6230 - accuracy: 0.7816\n",
            "Epoch 8/20\n",
            "1563/1563 [==============================] - 60s 38ms/step - loss: 0.5666 - accuracy: 0.8018\n",
            "Epoch 9/20\n",
            "1563/1563 [==============================] - 59s 38ms/step - loss: 0.5123 - accuracy: 0.8196\n",
            "Epoch 10/20\n",
            "1563/1563 [==============================] - 60s 38ms/step - loss: 0.4568 - accuracy: 0.8391\n",
            "Epoch 11/20\n",
            "1563/1563 [==============================] - 60s 38ms/step - loss: 0.4116 - accuracy: 0.8555\n",
            "Epoch 12/20\n",
            "1563/1563 [==============================] - 60s 38ms/step - loss: 0.3688 - accuracy: 0.8704\n",
            "Epoch 13/20\n",
            "1563/1563 [==============================] - 59s 38ms/step - loss: 0.3243 - accuracy: 0.8856\n",
            "Epoch 14/20\n",
            "1563/1563 [==============================] - 59s 38ms/step - loss: 0.2950 - accuracy: 0.8952\n",
            "Epoch 15/20\n",
            "1563/1563 [==============================] - 59s 38ms/step - loss: 0.2532 - accuracy: 0.9104\n",
            "Epoch 16/20\n",
            "1563/1563 [==============================] - 60s 38ms/step - loss: 0.2304 - accuracy: 0.9189\n",
            "Epoch 17/20\n",
            "1563/1563 [==============================] - 59s 38ms/step - loss: 0.2005 - accuracy: 0.9301\n",
            "Epoch 18/20\n",
            "1563/1563 [==============================] - 60s 38ms/step - loss: 0.1816 - accuracy: 0.9354\n",
            "Epoch 19/20\n",
            "1563/1563 [==============================] - 60s 38ms/step - loss: 0.1717 - accuracy: 0.9388\n",
            "Epoch 20/20\n",
            "1563/1563 [==============================] - 61s 39ms/step - loss: 0.1534 - accuracy: 0.9463\n"
          ]
        },
        {
          "output_type": "execute_result",
          "data": {
            "text/plain": [
              "<keras.src.callbacks.History at 0x7bb2f4761f00>"
            ]
          },
          "metadata": {},
          "execution_count": 28
        }
      ]
    },
    {
      "cell_type": "markdown",
      "source": [
        "проверяем результат обучения на тестовом наборе изображений"
      ],
      "metadata": {
        "id": "4k11nO69AWHm"
      }
    },
    {
      "cell_type": "code",
      "source": [
        "test_loss, test_accuracy = model.evaluate(test_images, test_labels)\n",
        "print ('Test loss: {}, Test accuracy: {}'.format(test_loss, test_accuracy*100))"
      ],
      "metadata": {
        "colab": {
          "base_uri": "https://localhost:8080/"
        },
        "id": "9vVNp_TjATEY",
        "outputId": "88cecd7d-5b42-447e-a5e0-0344a4b65df1"
      },
      "execution_count": 29,
      "outputs": [
        {
          "output_type": "stream",
          "name": "stdout",
          "text": [
            "313/313 [==============================] - 4s 13ms/step - loss: 1.8246 - accuracy: 0.6845\n",
            "Test loss: 1.8245760202407837, Test accuracy: 68.4499979019165\n"
          ]
        }
      ]
    }
  ]
}