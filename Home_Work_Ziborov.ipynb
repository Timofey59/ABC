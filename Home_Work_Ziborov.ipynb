{
 "cells": [
  {
   "cell_type": "code",
   "execution_count": 2,
   "id": "b1a9b945-02e6-40fd-bffa-ef50df7c73ca",
   "metadata": {},
   "outputs": [],
   "source": [
    "import pandas as pd\n",
    "import numpy as np\n",
    "import matplotlib.pyplot as plt\n",
    "import seaborn as sns"
   ]
  },
  {
   "cell_type": "markdown",
   "id": "f6b7bd83-bbe2-4192-ae7a-39052f9b7ed1",
   "metadata": {},
   "source": [
    "## информация о типах данных/структуре в таблице"
   ]
  },
  {
   "cell_type": "code",
   "execution_count": 7,
   "id": "54ed310c-4214-444a-b5c2-9bbe100773c7",
   "metadata": {},
   "outputs": [
    {
     "name": "stdout",
     "output_type": "stream",
     "text": [
      "<class 'pandas.core.frame.DataFrame'>\n",
      "RangeIndex: 1309 entries, 0 to 1308\n",
      "Data columns (total 14 columns):\n",
      " #   Column     Non-Null Count  Dtype  \n",
      "---  ------     --------------  -----  \n",
      " 0   pclass     1309 non-null   int64  \n",
      " 1   survived   1309 non-null   int64  \n",
      " 2   name       1309 non-null   object \n",
      " 3   sex        1309 non-null   object \n",
      " 4   age        1046 non-null   float64\n",
      " 5   sibsp      1309 non-null   int64  \n",
      " 6   parch      1309 non-null   int64  \n",
      " 7   ticket     1309 non-null   object \n",
      " 8   fare       1308 non-null   float64\n",
      " 9   cabin      295 non-null    object \n",
      " 10  embarked   1307 non-null   object \n",
      " 11  boat       486 non-null    object \n",
      " 12  body       121 non-null    float64\n",
      " 13  home.dest  745 non-null    object \n",
      "dtypes: float64(3), int64(4), object(7)\n",
      "memory usage: 143.3+ KB\n"
     ]
    }
   ],
   "source": [
    "all_data = pd.read_csv('titanic.csv')\n",
    "\n",
    "all_data.info()"
   ]
  },
  {
   "cell_type": "markdown",
   "id": "c7a16848-26d5-4e25-90c3-7174e88d3184",
   "metadata": {},
   "source": [
    "## заголовки и характер данных в целом (первые 5 строк таблицы)"
   ]
  },
  {
   "cell_type": "code",
   "execution_count": 6,
   "id": "e4621e1b-77d9-4764-af7b-189f6b0de6cc",
   "metadata": {},
   "outputs": [
    {
     "data": {
      "text/html": [
       "<div>\n",
       "<style scoped>\n",
       "    .dataframe tbody tr th:only-of-type {\n",
       "        vertical-align: middle;\n",
       "    }\n",
       "\n",
       "    .dataframe tbody tr th {\n",
       "        vertical-align: top;\n",
       "    }\n",
       "\n",
       "    .dataframe thead th {\n",
       "        text-align: right;\n",
       "    }\n",
       "</style>\n",
       "<table border=\"1\" class=\"dataframe\">\n",
       "  <thead>\n",
       "    <tr style=\"text-align: right;\">\n",
       "      <th></th>\n",
       "      <th>pclass</th>\n",
       "      <th>survived</th>\n",
       "      <th>name</th>\n",
       "      <th>sex</th>\n",
       "      <th>age</th>\n",
       "      <th>sibsp</th>\n",
       "      <th>parch</th>\n",
       "      <th>ticket</th>\n",
       "      <th>fare</th>\n",
       "      <th>cabin</th>\n",
       "      <th>embarked</th>\n",
       "      <th>boat</th>\n",
       "      <th>body</th>\n",
       "      <th>home.dest</th>\n",
       "    </tr>\n",
       "  </thead>\n",
       "  <tbody>\n",
       "    <tr>\n",
       "      <th>0</th>\n",
       "      <td>1</td>\n",
       "      <td>1</td>\n",
       "      <td>Allen, Miss. Elisabeth Walton</td>\n",
       "      <td>female</td>\n",
       "      <td>29.00</td>\n",
       "      <td>0</td>\n",
       "      <td>0</td>\n",
       "      <td>24160</td>\n",
       "      <td>211.3375</td>\n",
       "      <td>B5</td>\n",
       "      <td>S</td>\n",
       "      <td>2</td>\n",
       "      <td>NaN</td>\n",
       "      <td>St Louis, MO</td>\n",
       "    </tr>\n",
       "    <tr>\n",
       "      <th>1</th>\n",
       "      <td>1</td>\n",
       "      <td>1</td>\n",
       "      <td>Allison, Master. Hudson Trevor</td>\n",
       "      <td>male</td>\n",
       "      <td>0.92</td>\n",
       "      <td>1</td>\n",
       "      <td>2</td>\n",
       "      <td>113781</td>\n",
       "      <td>151.5500</td>\n",
       "      <td>C22 C26</td>\n",
       "      <td>S</td>\n",
       "      <td>11</td>\n",
       "      <td>NaN</td>\n",
       "      <td>Montreal, PQ / Chesterville, ON</td>\n",
       "    </tr>\n",
       "    <tr>\n",
       "      <th>2</th>\n",
       "      <td>1</td>\n",
       "      <td>0</td>\n",
       "      <td>Allison, Miss. Helen Loraine</td>\n",
       "      <td>female</td>\n",
       "      <td>2.00</td>\n",
       "      <td>1</td>\n",
       "      <td>2</td>\n",
       "      <td>113781</td>\n",
       "      <td>151.5500</td>\n",
       "      <td>C22 C26</td>\n",
       "      <td>S</td>\n",
       "      <td>NaN</td>\n",
       "      <td>NaN</td>\n",
       "      <td>Montreal, PQ / Chesterville, ON</td>\n",
       "    </tr>\n",
       "    <tr>\n",
       "      <th>3</th>\n",
       "      <td>1</td>\n",
       "      <td>0</td>\n",
       "      <td>Allison, Mr. Hudson Joshua Creighton</td>\n",
       "      <td>male</td>\n",
       "      <td>30.00</td>\n",
       "      <td>1</td>\n",
       "      <td>2</td>\n",
       "      <td>113781</td>\n",
       "      <td>151.5500</td>\n",
       "      <td>C22 C26</td>\n",
       "      <td>S</td>\n",
       "      <td>NaN</td>\n",
       "      <td>135.0</td>\n",
       "      <td>Montreal, PQ / Chesterville, ON</td>\n",
       "    </tr>\n",
       "    <tr>\n",
       "      <th>4</th>\n",
       "      <td>1</td>\n",
       "      <td>0</td>\n",
       "      <td>Allison, Mrs. Hudson J C (Bessie Waldo Daniels)</td>\n",
       "      <td>female</td>\n",
       "      <td>25.00</td>\n",
       "      <td>1</td>\n",
       "      <td>2</td>\n",
       "      <td>113781</td>\n",
       "      <td>151.5500</td>\n",
       "      <td>C22 C26</td>\n",
       "      <td>S</td>\n",
       "      <td>NaN</td>\n",
       "      <td>NaN</td>\n",
       "      <td>Montreal, PQ / Chesterville, ON</td>\n",
       "    </tr>\n",
       "  </tbody>\n",
       "</table>\n",
       "</div>"
      ],
      "text/plain": [
       "   pclass  survived                                             name     sex  \\\n",
       "0       1         1                    Allen, Miss. Elisabeth Walton  female   \n",
       "1       1         1                   Allison, Master. Hudson Trevor    male   \n",
       "2       1         0                     Allison, Miss. Helen Loraine  female   \n",
       "3       1         0             Allison, Mr. Hudson Joshua Creighton    male   \n",
       "4       1         0  Allison, Mrs. Hudson J C (Bessie Waldo Daniels)  female   \n",
       "\n",
       "     age  sibsp  parch  ticket      fare    cabin embarked boat   body  \\\n",
       "0  29.00      0      0   24160  211.3375       B5        S    2    NaN   \n",
       "1   0.92      1      2  113781  151.5500  C22 C26        S   11    NaN   \n",
       "2   2.00      1      2  113781  151.5500  C22 C26        S  NaN    NaN   \n",
       "3  30.00      1      2  113781  151.5500  C22 C26        S  NaN  135.0   \n",
       "4  25.00      1      2  113781  151.5500  C22 C26        S  NaN    NaN   \n",
       "\n",
       "                         home.dest  \n",
       "0                     St Louis, MO  \n",
       "1  Montreal, PQ / Chesterville, ON  \n",
       "2  Montreal, PQ / Chesterville, ON  \n",
       "3  Montreal, PQ / Chesterville, ON  \n",
       "4  Montreal, PQ / Chesterville, ON  "
      ]
     },
     "execution_count": 6,
     "metadata": {},
     "output_type": "execute_result"
    }
   ],
   "source": [
    "all_data.head()"
   ]
  },
  {
   "cell_type": "markdown",
   "id": "bd569670-8318-4b1f-a889-bc80dfe74c75",
   "metadata": {},
   "source": [
    "## наличие незаполненных полей в таблице"
   ]
  },
  {
   "cell_type": "code",
   "execution_count": 8,
   "id": "0d572986-fb8d-457d-8f84-0ff59dc0273a",
   "metadata": {},
   "outputs": [
    {
     "data": {
      "text/plain": [
       "pclass          0\n",
       "survived        0\n",
       "name            0\n",
       "sex             0\n",
       "age           263\n",
       "sibsp           0\n",
       "parch           0\n",
       "ticket          0\n",
       "fare            1\n",
       "cabin        1014\n",
       "embarked        2\n",
       "boat          823\n",
       "body         1188\n",
       "home.dest     564\n",
       "dtype: int64"
      ]
     },
     "execution_count": 8,
     "metadata": {},
     "output_type": "execute_result"
    }
   ],
   "source": [
    "all_data.isnull().sum()"
   ]
  },
  {
   "cell_type": "markdown",
   "id": "8ec6e848-94e7-42eb-8eb2-b61f1990823e",
   "metadata": {},
   "source": [
    "## Основные стат. данные по пассажирам"
   ]
  },
  {
   "cell_type": "code",
   "execution_count": 9,
   "id": "3c804c73-5a2c-47fb-a978-dfd730cc08da",
   "metadata": {},
   "outputs": [
    {
     "name": "stdout",
     "output_type": "stream",
     "text": [
      "\n",
      "плыло на Титанике: 1309 человек, из них мужчин: 843, женщин: 466\n",
      "\n",
      "Средний возраст участников плавания: 29.9\n",
      "Самому старшему участнику плавания: 80.0\n",
      "Самому младшему участнику плавания: 0.17\n"
     ]
    }
   ],
   "source": [
    "peoples_all = all_data['name'].count()\n",
    "peoples_male = all_data['sex'].value_counts()['male']\n",
    "peoples_female = all_data['sex'].value_counts()['female']\n",
    "\n",
    "print(f'\\nплыло на Титанике: {peoples_all} человек, из них мужчин: {peoples_male}, женщин: {peoples_female}') \n",
    "\n",
    "mean_age = round(all_data['age'].mean(), 1)\n",
    "max_age = all_data['age'].max()\n",
    "print(f'\\nСредний возраст участников плавания: {mean_age}')\n",
    "print(f'Самому старшему участнику плавания: {max_age}')\n",
    "print(f'Самому младшему участнику плавания: {all_data[\"age\"].min()}')"
   ]
  },
  {
   "cell_type": "markdown",
   "id": "980cea09-6793-4a9d-b507-72b2ed8209a2",
   "metadata": {},
   "source": [
    "## Основные стат. данные по спасшимся и погибшим пассажирам"
   ]
  },
  {
   "cell_type": "code",
   "execution_count": 10,
   "id": "bb2e5afe-0491-4fa2-8cfa-7bb2f56e7015",
   "metadata": {},
   "outputs": [
    {
     "name": "stdout",
     "output_type": "stream",
     "text": [
      "\n",
      "всего спаслось с Титаника: 500 человек, из них мужчин: 161, женщин: 339\n",
      "\n",
      "Процент спасшихся мужчин: 19.1\n",
      "\n",
      "Процент спасшихся женщин: 72.75\n"
     ]
    }
   ],
   "source": [
    "survived_all = all_data['survived'].sum()\n",
    "survived_male = all_data.loc[all_data['sex'] == 'male', 'survived'].sum()\n",
    "survived_female = all_data.loc[all_data['sex'] == 'female', 'survived'].sum()\n",
    "print(f'\\nвсего спаслось с Титаника: {survived_all} человек, из них мужчин: {survived_male}, женщин: {survived_female}')\n",
    "\n",
    "print(f'\\nПроцент спасшихся мужчин: {round(((survived_male/peoples_male)*100),2)}')\n",
    "print(f'\\nПроцент спасшихся женщин: {round(((survived_female/peoples_female)*100),2)}')"
   ]
  },
  {
   "cell_type": "markdown",
   "id": "da58ae10-ff4e-4c52-83aa-056e7a9cb099",
   "metadata": {},
   "source": [
    "## Pаспределение мужчин и женщин по классам кают"
   ]
  },
  {
   "cell_type": "code",
   "execution_count": 11,
   "id": "adad4810-35f0-4a67-93a4-484257b37013",
   "metadata": {},
   "outputs": [
    {
     "data": {
      "text/html": [
       "<div>\n",
       "<style scoped>\n",
       "    .dataframe tbody tr th:only-of-type {\n",
       "        vertical-align: middle;\n",
       "    }\n",
       "\n",
       "    .dataframe tbody tr th {\n",
       "        vertical-align: top;\n",
       "    }\n",
       "\n",
       "    .dataframe thead th {\n",
       "        text-align: right;\n",
       "    }\n",
       "</style>\n",
       "<table border=\"1\" class=\"dataframe\">\n",
       "  <thead>\n",
       "    <tr style=\"text-align: right;\">\n",
       "      <th>sex</th>\n",
       "      <th>female</th>\n",
       "      <th>male</th>\n",
       "    </tr>\n",
       "    <tr>\n",
       "      <th>pclass</th>\n",
       "      <th></th>\n",
       "      <th></th>\n",
       "    </tr>\n",
       "  </thead>\n",
       "  <tbody>\n",
       "    <tr>\n",
       "      <th>1</th>\n",
       "      <td>144</td>\n",
       "      <td>179</td>\n",
       "    </tr>\n",
       "    <tr>\n",
       "      <th>2</th>\n",
       "      <td>106</td>\n",
       "      <td>171</td>\n",
       "    </tr>\n",
       "    <tr>\n",
       "      <th>3</th>\n",
       "      <td>216</td>\n",
       "      <td>493</td>\n",
       "    </tr>\n",
       "  </tbody>\n",
       "</table>\n",
       "</div>"
      ],
      "text/plain": [
       "sex     female  male\n",
       "pclass              \n",
       "1          144   179\n",
       "2          106   171\n",
       "3          216   493"
      ]
     },
     "execution_count": 11,
     "metadata": {},
     "output_type": "execute_result"
    }
   ],
   "source": [
    "pd.crosstab(all_data['pclass'], all_data['sex'])"
   ]
  },
  {
   "cell_type": "markdown",
   "id": "5f708015-9d0d-4f70-bcae-e565059777e0",
   "metadata": {},
   "source": [
    "## Соотношение спасшихся по классам кают"
   ]
  },
  {
   "cell_type": "code",
   "execution_count": 33,
   "id": "accc5067-00bf-43db-848b-7244781283db",
   "metadata": {},
   "outputs": [
    {
     "data": {
      "text/plain": [
       "Text(0.5, 1.0, 'Соотношение спасшихся по классам кают')"
      ]
     },
     "execution_count": 33,
     "metadata": {},
     "output_type": "execute_result"
    },
    {
     "data": {
      "image/png": "[encoded data removed]",
      "text/plain": [
       "<Figure size 640x480 with 1 Axes>"
      ]
     },
     "metadata": {},
     "output_type": "display_data"
    }
   ],
   "source": [
    "sns.barplot(x='pclass', y='survived', data=all_data)\n",
    "plt.title('Соотношение спасшихся по классам кают')"
   ]
  },
  {
   "cell_type": "markdown",
   "id": "99246f8b-d9a3-482b-af50-2d32a442d264",
   "metadata": {},
   "source": [
    "## Соотношение спасшихся по половому признаку"
   ]
  },
  {
   "cell_type": "code",
   "execution_count": 31,
   "id": "cea40460-6bb1-40e6-8288-086cd69cad5a",
   "metadata": {},
   "outputs": [
    {
     "data": {
      "text/plain": [
       "Text(0.5, 1.0, 'Соотношение спасшихся по половому признаку')"
      ]
     },
     "execution_count": 31,
     "metadata": {},
     "output_type": "execute_result"
    },
    {
     "data": {
      "image/png": "[encoded data removed]",
      "text/plain": [
       "<Figure size 640x480 with 1 Axes>"
      ]
     },
     "metadata": {},
     "output_type": "display_data"
    }
   ],
   "source": [
    "sns.barplot(x='sex', y='survived', data=all_data)\n",
    "plt.title('Соотношение спасшихся по половому признаку')"
   ]
  },
  {
   "cell_type": "markdown",
   "id": "b089a92e-b210-4191-b635-054af2783535",
   "metadata": {},
   "source": [
    "## Соотношение количества пассажиров по портам отправления"
   ]
  },
  {
   "cell_type": "code",
   "execution_count": 29,
   "id": "dd2fad34-e2c5-4699-885f-e5c4935c2d0a",
   "metadata": {},
   "outputs": [
    {
     "data": {
      "image/png": "[encoded data removed]",
      "text/plain": [
       "<Figure size 640x480 with 1 Axes>"
      ]
     },
     "metadata": {},
     "output_type": "display_data"
    }
   ],
   "source": [
    "labels = ['S - Саутгемптон', 'C - Шербур', 'Q - Квинстаун']\n",
    "all_data['embarked'].value_counts().plot(kind='pie', autopct='%1.1f%%')\n",
    "plt.title('Распределение пассажиров по портам отправления')\n",
    "plt.legend(labels=labels, loc='best')\n",
    "plt.show()"
   ]
  },
  {
   "cell_type": "markdown",
   "id": "4bee3e97-3d8b-41e8-8d49-8ced2b544dbf",
   "metadata": {},
   "source": [
    "## Отчет\n",
    "\n",
    "В качестве тестового образца файла CSV из сети Интернет  \n",
    "был взят файл titanic.csv  \n",
    "Используя библиотеку Pandas файл titanic.csv был загружен  \n",
    "в Python и преобразован в DataFrame all_data  \n",
    "\n",
    "Используя команды all_data.info() и all_data.head()  \n",
    "была получена общая информация о датафрейме (количество целочисленных данных  \n",
    "данных с десятичной запятой, строковых данных) и общий вид таблицы  \n",
    "с заголовками и первыми строками.  \n",
    "\n",
    "Выполнен простой анализ данных, такой как подсчет средних значений, медианы,  \n",
    "минимальных и максимальных значений для числовых столбцов.  \n",
    "\n",
    "Произведены некоторые действия с полученными значениями, по которым  \n",
    "можно сделать некоторые выводы о последствиях катастрофы.  \n",
    "Выводы от простейших числовых (соотношений выживших и погибших (по половому  \n",
    "признаку, по классу занимаемых кают)), так и социальных (цель поездки пассажиров  \n",
    "1-го класса и 3-го класса, почему такая огромная разница между спасшимися  \n",
    "женщинами и мужчинами).\n",
    "\n",
    "Используя библиотеки Matplotlib и Seaborn были построены несколько  \n",
    "графиков снабженных заголовками и легендой.  \n",
    "\n",
    "В работе были активно использованы обучающие материалы из Интернета  \n",
    "и ChatGPT версии 3.5\n",
    "\n",
    "Работу выполнил ***Зиборов Тимофей Юрьевич***  \n",
    "в рамках домашнего задания программы  \n",
    "**\"Анализ данных с использованием нейросетей в DATA Science\"**\n",
    "\n"
   ]
  }
 ],
 "metadata": {
  "kernelspec": {
   "display_name": "Python 3 (ipykernel)",
   "language": "python",
   "name": "python3"
  },
  "language_info": {
   "codemirror_mode": {
    "name": "ipython",
    "version": 3
   },
   "file_extension": ".py",
   "mimetype": "text/x-python",
   "name": "python",
   "nbconvert_exporter": "python",
   "pygments_lexer": "ipython3",
   "version": "3.12.0"
  }
 },
 "nbformat": 4,
 "nbformat_minor": 5
}
