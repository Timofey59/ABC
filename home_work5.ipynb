{
  "nbformat": 4,
  "nbformat_minor": 0,
  "metadata": {
    "colab": {
      "provenance": [],
      "authorship_tag": "ABX9TyO7l/WHIUmuSr1/6uxNZrVX",
      "include_colab_link": true
    },
    "kernelspec": {
      "name": "python3",
      "display_name": "Python 3"
    },
    "language_info": {
      "name": "python"
    }
  },
  "cells": [
    {
      "cell_type": "markdown",
      "metadata": {
        "id": "view-in-github",
        "colab_type": "text"
      },
      "source": [
        "<a href=\"https://colab.research.google.com/github/Timofey59/ABC/blob/main/home_work5.ipynb\" target=\"_parent\"><img src=\"https://colab.research.google.com/assets/colab-badge.svg\" alt=\"Open In Colab\"/></a>"
      ]
    },
    {
      "cell_type": "markdown",
      "source": [
        "Создание простой рекуррентной нейронной сети на языке Python с использованием библиотеки Keras.\n",
        "\n",
        "В данном случае мы используем набор данных IMDB для классификации отзывов на положительные и отрицательные.\n",
        "\n",
        "Мы загружаем данные, создаем модель RNN с использованием слоя LSTM и Dense слоев, обучаем модель на тренировочных данных и оцениваем ее производительность на тестовых данных"
      ],
      "metadata": {
        "id": "EnKHFp4CgLTg"
      }
    },
    {
      "cell_type": "markdown",
      "source": [
        "## Загрузка данных и подготовка их для использования в модели RNN"
      ],
      "metadata": {
        "id": "VZ92seq4X6RK"
      }
    },
    {
      "cell_type": "code",
      "source": [
        "import numpy as np\n",
        "from keras.datasets import imdb\n",
        "from keras.preprocessing import sequence\n",
        "\n",
        "# Загрузка данных\n",
        "(X_train, y_train), (X_test, y_test) = imdb.load_data(num_words=5000)\n",
        "\n",
        "# Подготовка данных\n",
        "max_words = 500\n",
        "X_train = sequence.pad_sequences(X_train, maxlen=max_words)\n",
        "X_test = sequence.pad_sequences(X_test, maxlen=max_words)"
      ],
      "metadata": {
        "colab": {
          "base_uri": "https://localhost:8080/"
        },
        "id": "gLL37sn1YAGq",
        "outputId": "8c2a1c38-57d7-4f68-a074-99b255793dc6"
      },
      "execution_count": 1,
      "outputs": [
        {
          "output_type": "stream",
          "name": "stdout",
          "text": [
            "Downloading data from https://storage.googleapis.com/tensorflow/tf-keras-datasets/imdb.npz\n",
            "17464789/17464789 [==============================] - 0s 0us/step\n"
          ]
        }
      ]
    },
    {
      "cell_type": "markdown",
      "source": [
        "## Создание рекуррентной нейронной сети (RNN)\n",
        "\n",
        "Импортируем необходимые библиотеки, такие как TensorFlow и Keras"
      ],
      "metadata": {
        "id": "fuu0nAfzYKRn"
      }
    },
    {
      "cell_type": "code",
      "source": [
        "from keras.models import Sequential\n",
        "from keras.layers import Dense, LSTM, Embedding"
      ],
      "metadata": {
        "id": "_n8EiEkgYo-P"
      },
      "execution_count": 2,
      "outputs": []
    },
    {
      "cell_type": "markdown",
      "source": [
        "Создаем рекуррентную нейронную сеть (RNN) с использованием слоя RNN, LSTM или GRU, а также плотных слоев и выходного слоя"
      ],
      "metadata": {
        "id": "-V9XusLVYeUn"
      }
    },
    {
      "cell_type": "code",
      "source": [
        "model = Sequential()  # Создание модели RNN\n",
        "model.add(Embedding(5000, 32, input_length=max_words))\n",
        "model.add(LSTM(100))\n",
        "model.add(Dense(1, activation='sigmoid'))"
      ],
      "metadata": {
        "id": "2RMipjvFYv7D"
      },
      "execution_count": 3,
      "outputs": []
    },
    {
      "cell_type": "markdown",
      "source": [
        "## Обучение RNN\n",
        "\n",
        "Настраиваем параметры обучения, такие как оптимизатор, функция потерь и метрики"
      ],
      "metadata": {
        "id": "7rH3yIusZBsv"
      }
    },
    {
      "cell_type": "code",
      "source": [
        "# Настройка параметров обучения\n",
        "model.compile(loss='binary_crossentropy', optimizer='adam', metrics=['accuracy'])"
      ],
      "metadata": {
        "id": "CUVkPtMlZVqf"
      },
      "execution_count": 4,
      "outputs": []
    },
    {
      "cell_type": "markdown",
      "source": [
        "Обучаем RNN на тренировочных данных с использованием метода fit().\n",
        "\n",
        "Для RNN важно правильно определить длину последовательности"
      ],
      "metadata": {
        "id": "8kkNHu-yZT7L"
      }
    },
    {
      "cell_type": "code",
      "source": [
        "# Обучение модели\n",
        "model.fit(X_train, y_train, validation_data=(X_test, y_test), epochs=3, batch_size=64)"
      ],
      "metadata": {
        "colab": {
          "base_uri": "https://localhost:8080/"
        },
        "id": "_HtrpVt4Zp55",
        "outputId": "c772bd6d-dc70-44e4-c69c-c321fb882de6"
      },
      "execution_count": 5,
      "outputs": [
        {
          "output_type": "stream",
          "name": "stdout",
          "text": [
            "Epoch 1/3\n",
            "391/391 [==============================] - 419s 1s/step - loss: 0.4731 - accuracy: 0.7662 - val_loss: 0.3686 - val_accuracy: 0.8515\n",
            "Epoch 2/3\n",
            "391/391 [==============================] - 417s 1s/step - loss: 0.2982 - accuracy: 0.8807 - val_loss: 0.3126 - val_accuracy: 0.8693\n",
            "Epoch 3/3\n",
            "391/391 [==============================] - 417s 1s/step - loss: 0.2709 - accuracy: 0.8921 - val_loss: 0.3517 - val_accuracy: 0.8636\n"
          ]
        },
        {
          "output_type": "execute_result",
          "data": {
            "text/plain": [
              "<keras.src.callbacks.History at 0x790f93ca50f0>"
            ]
          },
          "metadata": {},
          "execution_count": 5
        }
      ]
    },
    {
      "cell_type": "markdown",
      "source": [
        "Оценка производительности обученной модели RNN на тестовых данных, используя метод evaluate()"
      ],
      "metadata": {
        "id": "LEsByJZfZrAC"
      }
    },
    {
      "cell_type": "code",
      "source": [
        "scores = model.evaluate(X_test, y_test, verbose=0)  # Оценка производительности модели\n",
        "print(\"Accuracy: %.2f%%\" % (scores[1]*100))"
      ],
      "metadata": {
        "colab": {
          "base_uri": "https://localhost:8080/"
        },
        "id": "bTeOllc6ZzZC",
        "outputId": "f3c50740-8c68-407c-8ede-bcca84af79d1"
      },
      "execution_count": 6,
      "outputs": [
        {
          "output_type": "stream",
          "name": "stdout",
          "text": [
            "Accuracy: 86.36%\n"
          ]
        }
      ]
    }
  ]
}