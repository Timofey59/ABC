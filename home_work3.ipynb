{
 "cells": [
  {
   "cell_type": "markdown",
   "id": "9aae10cb-e820-4316-9410-68f543320a9c",
   "metadata": {},
   "source": [
    "## 0. Загрузка библиотек"
   ]
  },
  {
   "cell_type": "code",
   "execution_count": 4,
   "id": "80fccf70-620b-42ad-ab48-79278c81c0e9",
   "metadata": {},
   "outputs": [],
   "source": [
    "import tensorflow as tf\n",
    "from tensorflow.keras import layers, models\n",
    "from tensorflow.keras.datasets import mnist\n",
    "from tensorflow.keras.utils import to_categorical"
   ]
  },
  {
   "cell_type": "markdown",
   "id": "051b7ed8-362c-4a01-ab19-b981b8e06833",
   "metadata": {},
   "source": [
    "## 1. Загрузка данных\n",
    "### 1.1. Загрузка данных MNIST"
   ]
  },
  {
   "cell_type": "code",
   "execution_count": 5,
   "id": "cb262117-8198-4cc1-b6a9-0412a42f7268",
   "metadata": {},
   "outputs": [
    {
     "name": "stdout",
     "output_type": "stream",
     "text": [
      "Downloading data from https://storage.googleapis.com/tensorflow/tf-keras-datasets/mnist.npz\n",
      "11490434/11490434 [==============================] - 2s 0us/step\n"
     ]
    }
   ],
   "source": [
    "(train_images, train_labels), (test_images, test_labels) = mnist.load_data()"
   ]
  },
  {
   "cell_type": "markdown",
   "id": "c2b231f8-e232-4948-81cb-d418c9c8d148",
   "metadata": {},
   "source": [
    "### 1.2. Подготовка данных"
   ]
  },
  {
   "cell_type": "code",
   "execution_count": 6,
   "id": "eb00db21-5fbd-4888-a118-1d69550263ca",
   "metadata": {},
   "outputs": [],
   "source": [
    "train_images = train_images.reshape((60000, 28, 28, 1)).astype('float32') / 255\n",
    "test_images = test_images.reshape((10000, 28, 28, 1)).astype('float32') / 255\n",
    "\n",
    "train_labels = to_categorical(train_labels)\n",
    "test_labels = to_categorical(test_labels)"
   ]
  },
  {
   "cell_type": "markdown",
   "id": "5ec93ca4-fb13-4f89-bb68-cec3fdbb8437",
   "metadata": {},
   "source": [
    "## 2. Создание нейросети\r\n",
    "### 2.1.Подключениет библиотек"
   ]
  },
  {
   "cell_type": "code",
   "execution_count": 7,
   "id": "62c8734d-c8a5-43ff-a03f-cdba79811fb1",
   "metadata": {},
   "outputs": [],
   "source": [
    "model = models.Sequential()"
   ]
  },
  {
   "cell_type": "markdown",
   "id": "667eafa6-e9de-4bf7-be3f-dc2292bcd1cd",
   "metadata": {},
   "source": [
    "### 2.2. Создание нейросети"
   ]
  },
  {
   "cell_type": "code",
   "execution_count": 8,
   "id": "27bbc827-372e-41cd-991b-8cd3cdf5596f",
   "metadata": {},
   "outputs": [],
   "source": [
    "model.add(layers.Conv2D(32, (3, 3), activation='relu', input_shape=(28, 28, 1)))\n",
    "model.add(layers.MaxPooling2D((2, 2)))\n",
    "model.add(layers.Conv2D(64, (3, 3), activation='relu'))\n",
    "model.add(layers.MaxPooling2D((2, 2)))\n",
    "model.add(layers.Conv2D(64, (3, 3), activation='relu'))\n",
    "model.add(layers.Flatten())\n",
    "model.add(layers.Dense(64, activation='relu'))\n",
    "model.add(layers.Dense(10, activation='softmax'))"
   ]
  },
  {
   "cell_type": "markdown",
   "id": "31733750-e24e-40ab-83a7-c6441be5a651",
   "metadata": {},
   "source": [
    "## 3. Обучение нейросети\n",
    "### 3.1. Настройка параметров обучения"
   ]
  },
  {
   "cell_type": "code",
   "execution_count": 9,
   "id": "9246fe61-63ad-407b-a9fd-412fb5de5665",
   "metadata": {},
   "outputs": [],
   "source": [
    "model.compile(optimizer='adam',\n",
    "              loss='categorical_crossentropy',\n",
    "              metrics=['accuracy'])"
   ]
  },
  {
   "cell_type": "markdown",
   "id": "46e3468b-0e00-41cb-8b78-e4c7709527b3",
   "metadata": {},
   "source": [
    "### 3.2. Обучение модели"
   ]
  },
  {
   "cell_type": "code",
   "execution_count": 11,
   "id": "c5a76026-66ad-4db5-b7c4-7eb5e74b958f",
   "metadata": {},
   "outputs": [
    {
     "name": "stdout",
     "output_type": "stream",
     "text": [
      "Epoch 1/5\n",
      "750/750 [==============================] - 37s 47ms/step - loss: 0.2093 - accuracy: 0.9342 - val_loss: 0.0836 - val_accuracy: 0.9746\n",
      "Epoch 2/5\n",
      "750/750 [==============================] - 35s 46ms/step - loss: 0.0564 - accuracy: 0.9824 - val_loss: 0.0556 - val_accuracy: 0.9836\n",
      "Epoch 3/5\n",
      "750/750 [==============================] - 35s 46ms/step - loss: 0.0392 - accuracy: 0.9880 - val_loss: 0.0483 - val_accuracy: 0.9858\n",
      "Epoch 4/5\n",
      "750/750 [==============================] - 35s 46ms/step - loss: 0.0304 - accuracy: 0.9900 - val_loss: 0.0383 - val_accuracy: 0.9880\n",
      "Epoch 5/5\n",
      "750/750 [==============================] - 35s 47ms/step - loss: 0.0237 - accuracy: 0.9929 - val_loss: 0.0466 - val_accuracy: 0.9861\n"
     ]
    },
    {
     "data": {
      "text/plain": [
       "<keras.callbacks.History at 0x19ed8fd7a10>"
      ]
     },
     "execution_count": 11,
     "metadata": {},
     "output_type": "execute_result"
    }
   ],
   "source": [
    "model.fit(train_images, train_labels, epochs=5, batch_size=64, validation_split=0.2)"
   ]
  },
  {
   "cell_type": "markdown",
   "id": "a3b8d573-4ae5-4c30-a6d6-af8d53c03076",
   "metadata": {},
   "source": [
    "## 4. Оценка производительности модели\n",
    "### 4.1. Оценка на тестовых данных"
   ]
  },
  {
   "cell_type": "code",
   "execution_count": 12,
   "id": "85cb94bb-b4d3-4060-b515-f9f1dfb9d22b",
   "metadata": {},
   "outputs": [
    {
     "name": "stdout",
     "output_type": "stream",
     "text": [
      "313/313 [==============================] - 2s 8ms/step - loss: 0.0320 - accuracy: 0.9898\n",
      "Точность на тестовых данных: 0.989799976348877\n"
     ]
    }
   ],
   "source": [
    "test_loss, test_acc = model.evaluate(test_images, test_labels)\n",
    "\n",
    "print(\"Точность на тестовых данных:\", test_acc)"
   ]
  }
 ],
 "metadata": {
  "kernelspec": {
   "display_name": "Python 3 (ipykernel)",
   "language": "python",
   "name": "python3"
  },
  "language_info": {
   "codemirror_mode": {
    "name": "ipython",
    "version": 3
   },
   "file_extension": ".py",
   "mimetype": "text/x-python",
   "name": "python",
   "nbconvert_exporter": "python",
   "pygments_lexer": "ipython3",
   "version": "3.11.6"
  }
 },
 "nbformat": 4,
 "nbformat_minor": 5
}
